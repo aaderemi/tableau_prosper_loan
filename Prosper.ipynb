{
 "cells": [
  {
   "cell_type": "markdown",
   "metadata": {},
   "source": [
    "# Summary"
   ]
  },
  {
   "cell_type": "markdown",
   "metadata": {},
   "source": [
    "Before 2008, the amount of loan borrowed by US citizens was on the increase. This was untill it started dropping through 2008.\n",
    "The [Visualizations](https://public.tableau.com/profile/aderemi.adeola#!/vizhome/ProsperLoanData_15518878023350/Story1) provided show how the amount borrowed has varied over the years, which states have borrowed the most, what the people borrowing do and what they have been using the loans for.\n",
    "\n",
    "The second version of the visualization, after including feedbacks, can be found [here](https://public.tableau.com/profile/aderemi.adeola#!/vizhome/Prosper_v2_15520730815260/Story1)\n",
    "\n",
    "From the visualizations, you will see that up to 70% of the loan collected in any given state is used for servicing debt. Also, although `Executives` tend to have the highest amount borrowed after `Professionals`, until 2013, they had less number of loans completed than `Analysts` who generally borrow less."
   ]
  },
  {
   "cell_type": "markdown",
   "metadata": {},
   "source": [
    "# Design"
   ]
  },
  {
   "cell_type": "markdown",
   "metadata": {},
   "source": [
    "As a design choice, I have generally used bar charts to compare measures for various dimensions. This is because heights were easier to make sense of as opposed to area, for instance, which is used by tiles.\n",
    "\n",
    "The listings provided in the data for what loans were used for were numbers ranging from 0 to 20. This would not make sense to use as there won't be an approprite legend. This was easily corrected using Tableau's Alias functionality. This allowed me to give an alias to each category in the 'Listings' column.\n",
    "\n",
    "Displaying maps generally provides good aesthetics, and by converting the `Borrower State` column to have geographic role from the `string` data type that it was, I was able to create maps which highlight which state has the highest amount borrowed among all the states in the dataset.\n",
    "\n",
    "Following the feedbacks received from the inital sketch, I made the following adjustments to my plots:\n",
    "- Reduced the number of plots in some dashboards for better clarity.\n",
    "- Provided titles for each plot in each dashboard for every slide.\n",
    "- Also enabled filtering over sheet four in the first dashboard. This allows viewers to filter over each `occupation`."
   ]
  },
  {
   "cell_type": "markdown",
   "metadata": {},
   "source": [
    "# Feedback"
   ]
  },
  {
   "cell_type": "markdown",
   "metadata": {},
   "source": [
    "As this is just the initial sketch, I do not have feedbacks yet. Will be adding those as I finetune the visualizations.\n",
    "\n",
    "Some of the feedbacks received include:\n",
    "- Provide a title for each plot in the dashboard of every slide.\n",
    "- Reduce the number of plots in a dashboard for clarity."
   ]
  }
 ],
 "metadata": {
  "kernelspec": {
   "display_name": "Python 3",
   "language": "python",
   "name": "python3"
  },
  "language_info": {
   "codemirror_mode": {
    "name": "ipython",
    "version": 3
   },
   "file_extension": ".py",
   "mimetype": "text/x-python",
   "name": "python",
   "nbconvert_exporter": "python",
   "pygments_lexer": "ipython3",
   "version": "3.6.6"
  }
 },
 "nbformat": 4,
 "nbformat_minor": 2
}
